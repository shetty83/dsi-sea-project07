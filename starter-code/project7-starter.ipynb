{
 "cells": [
  {
   "cell_type": "markdown",
   "metadata": {
    "focus": true,
    "id": "d21ca30e-294e-4146-8e4f-a5c331f7a36e"
   },
   "source": [
    "### Project 7 \n",
    "\n",
    "In this project, you will implement the the clustering techniques that you've learned this week. \n",
    "\n",
    "#### Step 1: Load the python libraries that you will need for this project "
   ]
  },
  {
   "cell_type": "code",
   "execution_count": 151,
   "metadata": {
    "collapsed": true,
    "focus": false,
    "id": "78c3bb3f-f513-437b-94f8-bc363b6e7a8b"
   },
   "outputs": [],
   "source": [
    "import pandas as pd \n",
    "import numpy as np\n",
    "import random\n",
    "from datetime import datetime\n",
    "from IPython.core.display import Image, HTML\n",
    "\n",
    "import matplotlib.pyplot as plt\n",
    "import matplotlib\n",
    "%matplotlib inline \n",
    "matplotlib.style.use('ggplot') \n",
    "\n",
    "from sklearn.datasets import fetch_20newsgroups\n",
    "from sklearn.feature_extraction.text import CountVectorizer, TfidfVectorizer\n",
    "from sklearn.feature_selection import f_classif, SelectKBest\n",
    "from sklearn.preprocessing import StandardScaler, LabelEncoder\n",
    "from sklearn.decomposition import PCA, TruncatedSVD\n",
    "from sklearn.cluster import KMeans\n",
    "from sklearn import metrics\n",
    "from sklearn.linear_model import LogisticRegression\n",
    "from sklearn.metrics import confusion_matrix\n",
    "from sklearn.model_selection import train_test_split\n",
    "from sklearn.metrics import classification_report, confusion_matrix, accuracy_score\n",
    "from __future__ import print_function, division\n",
    "\n",
    "from scipy.cluster.hierarchy import dendrogram, linkage, cophenet\n",
    "from scipy.cluster import hierarchy\n",
    "from scipy.cluster.hierarchy import fcluster"
   ]
  },
  {
   "cell_type": "code",
   "execution_count": 5,
   "metadata": {
    "collapsed": false
   },
   "outputs": [
    {
     "name": "stdout",
     "output_type": "stream",
     "text": [
      "Goal: Build a model that can accurately predict the sentiment of a tweet.\n",
      "How To: Use Truncated SVD with K-Means clustering\n"
     ]
    }
   ],
   "source": [
    "print(\"Goal: Build a model that can accurately predict the sentiment of a tweet.\")\n",
    "\n",
    "print(\"How To: Use Truncated SVD with K-Means clustering\")"
   ]
  },
  {
   "cell_type": "markdown",
   "metadata": {},
   "source": [
    "# Create DataFrame and Display Info #\n"
   ]
  },
  {
   "cell_type": "code",
   "execution_count": 43,
   "metadata": {
    "collapsed": false,
    "focus": false,
    "id": "0f64db5a-e176-46a1-a10b-8c7db09437bc"
   },
   "outputs": [
    {
     "name": "stdout",
     "output_type": "stream",
     "text": [
      "<class 'pandas.core.frame.DataFrame'>\n",
      "RangeIndex: 55783 entries, 0 to 55782\n",
      "Data columns (total 27 columns):\n",
      "_unit_id                  55783 non-null int64\n",
      "_created_at               55783 non-null object\n",
      "_golden                   55783 non-null bool\n",
      "_id                       55783 non-null int64\n",
      "_missed                   1859 non-null object\n",
      "_started_at               55783 non-null object\n",
      "_tainted                  55783 non-null bool\n",
      "_channel                  55783 non-null object\n",
      "_trust                    55783 non-null float64\n",
      "_worker_id                55783 non-null int64\n",
      "_country                  55587 non-null object\n",
      "_region                   46649 non-null object\n",
      "_city                     46509 non-null object\n",
      "_ip                       55783 non-null object\n",
      "airline_sentiment         55783 non-null object\n",
      "negativereason            36285 non-null object\n",
      "airline                   55783 non-null object\n",
      "airline_sentiment_gold    11997 non-null object\n",
      "name                      55783 non-null object\n",
      "negativereason_gold       9588 non-null object\n",
      "retweet_count             55783 non-null int64\n",
      "text                      55783 non-null object\n",
      "tweet_coord               3905 non-null object\n",
      "tweet_created             55783 non-null object\n",
      "tweet_id                  55783 non-null int64\n",
      "tweet_location            37146 non-null object\n",
      "user_timezone             37748 non-null object\n",
      "dtypes: bool(2), float64(1), int64(5), object(19)\n",
      "memory usage: 10.7+ MB\n"
     ]
    },
    {
     "ename": "AttributeError",
     "evalue": "'AxesSubplot' object has no attribute 'show'",
     "output_type": "error",
     "traceback": [
      "\u001b[0;31m---------------------------------------------------------------------------\u001b[0m",
      "\u001b[0;31mAttributeError\u001b[0m                            Traceback (most recent call last)",
      "\u001b[0;32m<ipython-input-43-9fb86a597955>\u001b[0m in \u001b[0;36m<module>\u001b[0;34m()\u001b[0m\n\u001b[1;32m     17\u001b[0m \u001b[0mvc_negativereason_pot\u001b[0m \u001b[0;34m=\u001b[0m \u001b[0mdf\u001b[0m\u001b[0;34m.\u001b[0m\u001b[0mgroupby\u001b[0m\u001b[0;34m(\u001b[0m\u001b[0;34m'negativereason'\u001b[0m\u001b[0;34m)\u001b[0m\u001b[0;34m.\u001b[0m\u001b[0msize\u001b[0m\u001b[0;34m(\u001b[0m\u001b[0;34m)\u001b[0m \u001b[0;34m*\u001b[0m \u001b[0;36m100\u001b[0m \u001b[0;34m/\u001b[0m \u001b[0mlen\u001b[0m\u001b[0;34m(\u001b[0m\u001b[0mdf\u001b[0m\u001b[0;34m)\u001b[0m\u001b[0;34m\u001b[0m\u001b[0m\n\u001b[1;32m     18\u001b[0m \u001b[0mlisty_airlines\u001b[0m \u001b[0;34m=\u001b[0m \u001b[0mdf\u001b[0m\u001b[0;34m[\u001b[0m\u001b[0;34m'airline'\u001b[0m\u001b[0;34m]\u001b[0m\u001b[0;34m.\u001b[0m\u001b[0munique\u001b[0m\u001b[0;34m(\u001b[0m\u001b[0;34m)\u001b[0m\u001b[0;34m\u001b[0m\u001b[0m\n\u001b[0;32m---> 19\u001b[0;31m \u001b[0mvc_airline_sentiment\u001b[0m\u001b[0;34m.\u001b[0m\u001b[0mplot\u001b[0m\u001b[0;34m(\u001b[0m\u001b[0mkind\u001b[0m\u001b[0;34m=\u001b[0m\u001b[0;34m'bar'\u001b[0m\u001b[0;34m)\u001b[0m\u001b[0;34m.\u001b[0m\u001b[0mshow\u001b[0m\u001b[0;34m(\u001b[0m\u001b[0;34m)\u001b[0m\u001b[0;34m\u001b[0m\u001b[0m\n\u001b[0m\u001b[1;32m     20\u001b[0m \u001b[0mvc_negativereason\u001b[0m\u001b[0;34m.\u001b[0m\u001b[0mplot\u001b[0m\u001b[0;34m(\u001b[0m\u001b[0mkind\u001b[0m\u001b[0;34m=\u001b[0m\u001b[0;34m'bar'\u001b[0m\u001b[0;34m)\u001b[0m\u001b[0;34m.\u001b[0m\u001b[0mshow\u001b[0m\u001b[0;34m(\u001b[0m\u001b[0;34m)\u001b[0m\u001b[0;34m\u001b[0m\u001b[0m\n\u001b[1;32m     21\u001b[0m \u001b[0;34m\u001b[0m\u001b[0m\n",
      "\u001b[0;31mAttributeError\u001b[0m: 'AxesSubplot' object has no attribute 'show'"
     ]
    },
    {
     "data": {
      "image/png": "[encoded data removed]",
      "text/plain": [
       "<matplotlib.figure.Figure at 0x127f86c50>"
      ]
     },
     "metadata": {},
     "output_type": "display_data"
    }
   ],
   "source": [
    "# Create DataFrame and get info\n",
    "df = pd.read_csv(\"./../assets/tweets.csv\")\n",
    "\n",
    "# Display Info\n",
    "info = df.info()\n",
    "describe = df.describe\n",
    "types = df.dtypes\n",
    "shape = df.shape\n",
    "head = df.head()\n",
    "columns = list(df.columns.values)\n",
    "df.columns.names = ['Columns']\n",
    "df.index.names = ['Indexes']\n",
    "vc_airline_sentiment = df['airline_sentiment'].value_counts()\n",
    "vc_negativereason = df['negativereason'].value_counts()\n",
    "# Percent of Total\n",
    "vc_airline_sentiment_pot = df.groupby('airline_sentiment').size() * 100 / len(df)\n",
    "vc_negativereason_pot = df.groupby('negativereason').size() * 100 / len(df)\n",
    "listy_airlines = df['airline'].unique()\n",
    "vc_airline_sentiment_bar_graph = vc_airline_sentiment.plot(kind='bar')\n",
    "vc_negativereason_bar_graph = vc_negativereason.plot(kind='bar')\n",
    "\n",
    "\n",
    "print(vc_airline_sentiment)\n",
    "print(vc_negativereason)\n",
    "print(listy_airlines)\n",
    "head"
   ]
  },
  {
   "cell_type": "markdown",
   "metadata": {},
   "source": [
    "# Clean The Data #"
   ]
  },
  {
   "cell_type": "code",
   "execution_count": 44,
   "metadata": {
    "collapsed": false
   },
   "outputs": [
    {
     "data": {
      "text/plain": [
       "Columns\n",
       "_unit_id                  0.000000\n",
       "_created_at               0.000000\n",
       "_golden                   0.000000\n",
       "_id                       0.000000\n",
       "_missed                   0.966674\n",
       "_started_at               0.000000\n",
       "_tainted                  0.000000\n",
       "_channel                  0.000000\n",
       "_trust                    0.000000\n",
       "_worker_id                0.000000\n",
       "_country                  0.003514\n",
       "_region                   0.163742\n",
       "_city                     0.166251\n",
       "_ip                       0.000000\n",
       "airline_sentiment         0.000000\n",
       "negativereason            0.349533\n",
       "airline                   0.000000\n",
       "airline_sentiment_gold    0.784934\n",
       "name                      0.000000\n",
       "negativereason_gold       0.828120\n",
       "retweet_count             0.000000\n",
       "text                      0.000000\n",
       "tweet_coord               0.929997\n",
       "tweet_created             0.000000\n",
       "tweet_id                  0.000000\n",
       "tweet_location            0.334098\n",
       "user_timezone             0.323306\n",
       "dtype: float64"
      ]
     },
     "execution_count": 44,
     "metadata": {},
     "output_type": "execute_result"
    }
   ],
   "source": [
    "# Percent of column that is null\n",
    "df.isnull().apply(lambda x: x/len(df), axis=0).sum()"
   ]
  },
  {
   "cell_type": "code",
   "execution_count": 45,
   "metadata": {
    "collapsed": false
   },
   "outputs": [
    {
     "name": "stderr",
     "output_type": "stream",
     "text": [
      "/Users/Madballa55/anaconda/lib/python2.7/site-packages/ipykernel/__main__.py:4: SettingWithCopyWarning: \n",
      "A value is trying to be set on a copy of a slice from a DataFrame.\n",
      "Try using .loc[row_indexer,col_indexer] = value instead\n",
      "\n",
      "See the caveats in the documentation: http://pandas.pydata.org/pandas-docs/stable/indexing.html#indexing-view-versus-copy\n"
     ]
    },
    {
     "name": "stdout",
     "output_type": "stream",
     "text": [
      "<class 'pandas.core.frame.DataFrame'>\n",
      "RangeIndex: 55783 entries, 0 to 55782\n",
      "Data columns (total 20 columns):\n",
      "_unit_id             55783 non-null int64\n",
      "_created_at          55783 non-null object\n",
      "_golden              55783 non-null bool\n",
      "_id                  55783 non-null int64\n",
      "_started_at          55783 non-null datetime64[ns]\n",
      "_tainted             55783 non-null bool\n",
      "_channel             55783 non-null object\n",
      "_trust               55783 non-null float64\n",
      "_worker_id           55783 non-null int64\n",
      "_country             55587 non-null object\n",
      "_region              46649 non-null object\n",
      "_city                46509 non-null object\n",
      "_ip                  55783 non-null object\n",
      "airline_sentiment    55783 non-null object\n",
      "airline              55783 non-null object\n",
      "name                 55783 non-null object\n",
      "retweet_count        55783 non-null int64\n",
      "text                 55783 non-null object\n",
      "tweet_created        55783 non-null object\n",
      "tweet_id             55783 non-null int64\n",
      "dtypes: bool(2), datetime64[ns](1), float64(1), int64(5), object(11)\n",
      "memory usage: 7.8+ MB\n"
     ]
    },
    {
     "name": "stderr",
     "output_type": "stream",
     "text": [
      "/Users/Madballa55/anaconda/lib/python2.7/site-packages/ipykernel/__main__.py:6: SettingWithCopyWarning: \n",
      "A value is trying to be set on a copy of a slice from a DataFrame.\n",
      "Try using .loc[row_indexer,col_indexer] = value instead\n",
      "\n",
      "See the caveats in the documentation: http://pandas.pydata.org/pandas-docs/stable/indexing.html#indexing-view-versus-copy\n"
     ]
    }
   ],
   "source": [
    "#Drop columns with a lot of nan's\n",
    "df = df.dropna(axis=1,thresh=(.75*len(df)))\n",
    "# Remove the @airline bit of the text of the tweet\n",
    "df['text'] = df['text'].str.replace('^@\\\\w+ *',\"\")\n",
    "# Make tweet_created date/time\n",
    "df['_started_at'] =  pd.to_datetime(df['_started_at'])\n",
    "\n",
    "\n",
    "df.info()"
   ]
  },
  {
   "cell_type": "code",
   "execution_count": 25,
   "metadata": {
    "collapsed": true
   },
   "outputs": [],
   "source": [
    "# Export to CSV for tableau\n",
    "df.to_csv('./../assets/tweets_cleaned.csv', sep=',', encoding='utf-8')"
   ]
  },
  {
   "cell_type": "markdown",
   "metadata": {},
   "source": [
    "# TfidfVectorizer (to find most important words) #"
   ]
  },
  {
   "cell_type": "code",
   "execution_count": 121,
   "metadata": {
    "collapsed": false
   },
   "outputs": [],
   "source": [
    "# Positive Words\n",
    "x_pos = df.ix[df.airline_sentiment == 'positive', 'text']\n",
    "y_pos = df.ix[df.airline_sentiment == 'positive', 'airline_sentiment']"
   ]
  },
  {
   "cell_type": "code",
   "execution_count": 122,
   "metadata": {
    "collapsed": false
   },
   "outputs": [],
   "source": [
    "# Negative Words\n",
    "x_neg = df.ix[df.airline_sentiment == 'negative', 'text']\n",
    "y_neg  = df.ix[df.airline_sentiment == 'negative', 'airline_sentiment']"
   ]
  },
  {
   "cell_type": "code",
   "execution_count": 143,
   "metadata": {
    "collapsed": false
   },
   "outputs": [],
   "source": [
    "# MODEL\n",
    "\n",
    "def vectorizer(x):\n",
    "    # Create vectorizer of words\n",
    "    v = TfidfVectorizer(stop_words=['english','didn','this','your','http','were','that','they','with','been','what','guys'],\n",
    "                        token_pattern='[A-Za-z]{4,50}', \n",
    "                        ngram_range=(1, 1),\n",
    "                        max_features = 20,\n",
    "                        min_df = 2,\n",
    "                        max_df = .5,\n",
    "                        )\n",
    "    # Fit Vectorizer\n",
    "    vec = v.fit(x)\n",
    "    x = vec.transform(x).todense()\n",
    "    # Visualize the vectorizer (Rows are newsgroups, columns are earch word)\n",
    "    df_x = pd.DataFrame(x, columns = list(v.vocabulary_))\n",
    "\n",
    "    return df_x.sum(axis=0).sort_values(ascending=False)\n",
    "\n"
   ]
  },
  {
   "cell_type": "code",
   "execution_count": 128,
   "metadata": {
    "collapsed": false
   },
   "outputs": [
    {
     "name": "stdout",
     "output_type": "stream",
     "text": [
      "Positive Words\n"
     ]
    },
    {
     "data": {
      "text/plain": [
       "wonderful    1400.323949\n",
       "flying       1346.325898\n",
       "thank         826.042285\n",
       "great         482.688580\n",
       "just          447.585167\n",
       "have          402.365703\n",
       "service       386.849912\n",
       "reps          366.355199\n",
       "best          340.757510\n",
       "finally       327.886151\n",
       "from          326.234633\n",
       "customer      321.292609\n",
       "ones          307.886648\n",
       "good          288.571089\n",
       "flight        279.285045\n",
       "awesome       231.088887\n",
       "love          208.604899\n",
       "will          195.041590\n",
       "thanks        164.825892\n",
       "dallas        150.837191\n",
       "dtype: float64"
      ]
     },
     "execution_count": 128,
     "metadata": {},
     "output_type": "execute_result"
    }
   ],
   "source": [
    "print('Positive Words')\n",
    "top_pos_words = vectorizer(x_pos)\n",
    "top_pos_words[0:20]"
   ]
  },
  {
   "cell_type": "code",
   "execution_count": 129,
   "metadata": {
    "collapsed": false
   },
   "outputs": [
    {
     "name": "stdout",
     "output_type": "stream",
     "text": [
      "Negative Words\n"
     ]
    },
    {
     "data": {
      "text/plain": [
       "hours       5595.619632\n",
       "after       3126.464553\n",
       "plane       1938.241361\n",
       "need        1901.773799\n",
       "call        1884.617862\n",
       "gate        1865.794145\n",
       "delayed     1817.955492\n",
       "just        1771.817039\n",
       "service     1681.384061\n",
       "still       1673.782032\n",
       "flight      1466.712516\n",
       "time        1418.499397\n",
       "customer    1321.440322\n",
       "hold        1301.563577\n",
       "would       1253.347173\n",
       "from        1246.959265\n",
       "over        1241.074098\n",
       "hour        1209.436744\n",
       "help        1156.480730\n",
       "have        1149.663902\n",
       "dtype: float64"
      ]
     },
     "execution_count": 129,
     "metadata": {},
     "output_type": "execute_result"
    }
   ],
   "source": [
    "print('Negative Words')\n",
    "top_neg_words = vectorizer(x_neg)\n",
    "top_neg_words[0:20]"
   ]
  },
  {
   "cell_type": "markdown",
   "metadata": {},
   "source": [
    "# Truncated SVD (to reduce # of features/words) #"
   ]
  },
  {
   "cell_type": "code",
   "execution_count": 116,
   "metadata": {
    "collapsed": false
   },
   "outputs": [],
   "source": [
    "def tsvd(x):\n",
    "\n",
    "    # Initialize Model\n",
    "    SVD = TruncatedSVD(n_components = 14, random_state=42)\n",
    "    # Fit Transform\n",
    "    SVD.fit_transform(x)\n",
    "    \n",
    "    df_reduced_words = pd.DataFrame(SVD.components_.T, index = p_vec.get_feature_names())\n",
    "    df_reduced_words = df_reduced_words.transpose()\n",
    "    \n",
    "    return df_reduced_words"
   ]
  },
  {
   "cell_type": "code",
   "execution_count": 134,
   "metadata": {
    "collapsed": false
   },
   "outputs": [
    {
     "ename": "ValueError",
     "evalue": "could not convert string to float: thank you we got on a different flight to Chicago.",
     "output_type": "error",
     "traceback": [
      "\u001b[0;31m---------------------------------------------------------------------------\u001b[0m",
      "\u001b[0;31mValueError\u001b[0m                                Traceback (most recent call last)",
      "\u001b[0;32m<ipython-input-134-b09077a4fd58>\u001b[0m in \u001b[0;36m<module>\u001b[0;34m()\u001b[0m\n\u001b[0;32m----> 1\u001b[0;31m \u001b[0mtsvd\u001b[0m\u001b[0;34m(\u001b[0m\u001b[0mx_pos\u001b[0m\u001b[0;34m)\u001b[0m\u001b[0;34m\u001b[0m\u001b[0m\n\u001b[0m",
      "\u001b[0;32m<ipython-input-116-d76f82f33b81>\u001b[0m in \u001b[0;36mtsvd\u001b[0;34m(x)\u001b[0m\n\u001b[1;32m      4\u001b[0m     \u001b[0mSVD\u001b[0m \u001b[0;34m=\u001b[0m \u001b[0mTruncatedSVD\u001b[0m\u001b[0;34m(\u001b[0m\u001b[0mn_components\u001b[0m \u001b[0;34m=\u001b[0m \u001b[0;36m14\u001b[0m\u001b[0;34m,\u001b[0m \u001b[0mrandom_state\u001b[0m\u001b[0;34m=\u001b[0m\u001b[0;36m42\u001b[0m\u001b[0;34m)\u001b[0m\u001b[0;34m\u001b[0m\u001b[0m\n\u001b[1;32m      5\u001b[0m     \u001b[0;31m# Fit Transform\u001b[0m\u001b[0;34m\u001b[0m\u001b[0;34m\u001b[0m\u001b[0m\n\u001b[0;32m----> 6\u001b[0;31m     \u001b[0mSVD\u001b[0m\u001b[0;34m.\u001b[0m\u001b[0mfit_transform\u001b[0m\u001b[0;34m(\u001b[0m\u001b[0mx\u001b[0m\u001b[0;34m)\u001b[0m\u001b[0;34m\u001b[0m\u001b[0m\n\u001b[0m\u001b[1;32m      7\u001b[0m \u001b[0;34m\u001b[0m\u001b[0m\n\u001b[1;32m      8\u001b[0m     \u001b[0mdf_reduced_words\u001b[0m \u001b[0;34m=\u001b[0m \u001b[0mpd\u001b[0m\u001b[0;34m.\u001b[0m\u001b[0mDataFrame\u001b[0m\u001b[0;34m(\u001b[0m\u001b[0mSVD\u001b[0m\u001b[0;34m.\u001b[0m\u001b[0mcomponents_\u001b[0m\u001b[0;34m.\u001b[0m\u001b[0mT\u001b[0m\u001b[0;34m,\u001b[0m \u001b[0mindex\u001b[0m \u001b[0;34m=\u001b[0m \u001b[0mp_vec\u001b[0m\u001b[0;34m.\u001b[0m\u001b[0mget_feature_names\u001b[0m\u001b[0;34m(\u001b[0m\u001b[0;34m)\u001b[0m\u001b[0;34m)\u001b[0m\u001b[0;34m\u001b[0m\u001b[0m\n",
      "\u001b[0;32m/Users/Madballa55/anaconda/lib/python2.7/site-packages/sklearn/decomposition/truncated_svd.pyc\u001b[0m in \u001b[0;36mfit_transform\u001b[0;34m(self, X, y)\u001b[0m\n\u001b[1;32m    148\u001b[0m             \u001b[0mReduced\u001b[0m \u001b[0mversion\u001b[0m \u001b[0mof\u001b[0m \u001b[0mX\u001b[0m\u001b[0;34m.\u001b[0m \u001b[0mThis\u001b[0m \u001b[0mwill\u001b[0m \u001b[0malways\u001b[0m \u001b[0mbe\u001b[0m \u001b[0ma\u001b[0m \u001b[0mdense\u001b[0m \u001b[0marray\u001b[0m\u001b[0;34m.\u001b[0m\u001b[0;34m\u001b[0m\u001b[0m\n\u001b[1;32m    149\u001b[0m         \"\"\"\n\u001b[0;32m--> 150\u001b[0;31m         \u001b[0mX\u001b[0m \u001b[0;34m=\u001b[0m \u001b[0mas_float_array\u001b[0m\u001b[0;34m(\u001b[0m\u001b[0mX\u001b[0m\u001b[0;34m,\u001b[0m \u001b[0mcopy\u001b[0m\u001b[0;34m=\u001b[0m\u001b[0mFalse\u001b[0m\u001b[0;34m)\u001b[0m\u001b[0;34m\u001b[0m\u001b[0m\n\u001b[0m\u001b[1;32m    151\u001b[0m         \u001b[0mrandom_state\u001b[0m \u001b[0;34m=\u001b[0m \u001b[0mcheck_random_state\u001b[0m\u001b[0;34m(\u001b[0m\u001b[0mself\u001b[0m\u001b[0;34m.\u001b[0m\u001b[0mrandom_state\u001b[0m\u001b[0;34m)\u001b[0m\u001b[0;34m\u001b[0m\u001b[0m\n\u001b[1;32m    152\u001b[0m \u001b[0;34m\u001b[0m\u001b[0m\n",
      "\u001b[0;32m/Users/Madballa55/anaconda/lib/python2.7/site-packages/sklearn/utils/validation.pyc\u001b[0m in \u001b[0;36mas_float_array\u001b[0;34m(X, copy, force_all_finite)\u001b[0m\n\u001b[1;32m     93\u001b[0m         return check_array(X, ['csr', 'csc', 'coo'], dtype=np.float64,\n\u001b[1;32m     94\u001b[0m                            \u001b[0mcopy\u001b[0m\u001b[0;34m=\u001b[0m\u001b[0mcopy\u001b[0m\u001b[0;34m,\u001b[0m \u001b[0mforce_all_finite\u001b[0m\u001b[0;34m=\u001b[0m\u001b[0mforce_all_finite\u001b[0m\u001b[0;34m,\u001b[0m\u001b[0;34m\u001b[0m\u001b[0m\n\u001b[0;32m---> 95\u001b[0;31m                            ensure_2d=False)\n\u001b[0m\u001b[1;32m     96\u001b[0m     \u001b[0;32melif\u001b[0m \u001b[0msp\u001b[0m\u001b[0;34m.\u001b[0m\u001b[0missparse\u001b[0m\u001b[0;34m(\u001b[0m\u001b[0mX\u001b[0m\u001b[0;34m)\u001b[0m \u001b[0;32mand\u001b[0m \u001b[0mX\u001b[0m\u001b[0;34m.\u001b[0m\u001b[0mdtype\u001b[0m \u001b[0;32min\u001b[0m \u001b[0;34m[\u001b[0m\u001b[0mnp\u001b[0m\u001b[0;34m.\u001b[0m\u001b[0mfloat32\u001b[0m\u001b[0;34m,\u001b[0m \u001b[0mnp\u001b[0m\u001b[0;34m.\u001b[0m\u001b[0mfloat64\u001b[0m\u001b[0;34m]\u001b[0m\u001b[0;34m:\u001b[0m\u001b[0;34m\u001b[0m\u001b[0m\n\u001b[1;32m     97\u001b[0m         \u001b[0;32mreturn\u001b[0m \u001b[0mX\u001b[0m\u001b[0;34m.\u001b[0m\u001b[0mcopy\u001b[0m\u001b[0;34m(\u001b[0m\u001b[0;34m)\u001b[0m \u001b[0;32mif\u001b[0m \u001b[0mcopy\u001b[0m \u001b[0;32melse\u001b[0m \u001b[0mX\u001b[0m\u001b[0;34m\u001b[0m\u001b[0m\n",
      "\u001b[0;32m/Users/Madballa55/anaconda/lib/python2.7/site-packages/sklearn/utils/validation.pyc\u001b[0m in \u001b[0;36mcheck_array\u001b[0;34m(array, accept_sparse, dtype, order, copy, force_all_finite, ensure_2d, allow_nd, ensure_min_samples, ensure_min_features, warn_on_dtype, estimator)\u001b[0m\n\u001b[1;32m    380\u001b[0m                                       force_all_finite)\n\u001b[1;32m    381\u001b[0m     \u001b[0;32melse\u001b[0m\u001b[0;34m:\u001b[0m\u001b[0;34m\u001b[0m\u001b[0m\n\u001b[0;32m--> 382\u001b[0;31m         \u001b[0marray\u001b[0m \u001b[0;34m=\u001b[0m \u001b[0mnp\u001b[0m\u001b[0;34m.\u001b[0m\u001b[0marray\u001b[0m\u001b[0;34m(\u001b[0m\u001b[0marray\u001b[0m\u001b[0;34m,\u001b[0m \u001b[0mdtype\u001b[0m\u001b[0;34m=\u001b[0m\u001b[0mdtype\u001b[0m\u001b[0;34m,\u001b[0m \u001b[0morder\u001b[0m\u001b[0;34m=\u001b[0m\u001b[0morder\u001b[0m\u001b[0;34m,\u001b[0m \u001b[0mcopy\u001b[0m\u001b[0;34m=\u001b[0m\u001b[0mcopy\u001b[0m\u001b[0;34m)\u001b[0m\u001b[0;34m\u001b[0m\u001b[0m\n\u001b[0m\u001b[1;32m    383\u001b[0m \u001b[0;34m\u001b[0m\u001b[0m\n\u001b[1;32m    384\u001b[0m         \u001b[0;32mif\u001b[0m \u001b[0mensure_2d\u001b[0m\u001b[0;34m:\u001b[0m\u001b[0;34m\u001b[0m\u001b[0m\n",
      "\u001b[0;31mValueError\u001b[0m: could not convert string to float: thank you we got on a different flight to Chicago."
     ]
    }
   ],
   "source": [
    "tsvd(x_pos)"
   ]
  },
  {
   "cell_type": "markdown",
   "metadata": {},
   "source": [
    "# Use Kmeans to Create Positive/Negative Predictions #  "
   ]
  },
  {
   "cell_type": "code",
   "execution_count": 152,
   "metadata": {
    "collapsed": false
   },
   "outputs": [],
   "source": [
    "v = TfidfVectorizer(stop_words=['english','didn','this','your','http','were','that','they','with','been','what','guys'],\n",
    "                        token_pattern='[A-Za-z]{4,50}', \n",
    "                        ngram_range=(1, 1),\n",
    "                        max_features = 20,\n",
    "                        min_df = 2,\n",
    "                        max_df = .5,\n",
    "                        )\n",
    "\n",
    "X = v.fit_transform(df['text'])\n",
    "model_kmeans = KMeans(n_clusters=2, init='k-means++', max_iter=100, n_init=30)\n",
    "model_kmeans.fit(X)\n",
    "labels = pd.DataFrame(model_kmeans.labels_)\n",
    "\n",
    "y_pred = np.choose(labels, [0,1])\n",
    "\n",
    "le = LabelEncoder()\n",
    "y = le.fit_transform(df['airline_sentiment'])"
   ]
  },
  {
   "cell_type": "markdown",
   "metadata": {},
   "source": [
    "# Measure Accuracy #"
   ]
  },
  {
   "cell_type": "code",
   "execution_count": 155,
   "metadata": {
    "collapsed": false
   },
   "outputs": [
    {
     "name": "stdout",
     "output_type": "stream",
     "text": [
      "             precision    recall  f1-score   support\n",
      "\n",
      "          0       0.63      0.79      0.70     36280\n",
      "          1       0.15      0.14      0.14     11027\n",
      "          2       0.00      0.00      0.00      8476\n",
      "\n",
      "avg / total       0.44      0.54      0.49     55783\n",
      "\n"
     ]
    }
   ],
   "source": [
    "print(classification_report(y, y_pred))"
   ]
  },
  {
   "cell_type": "code",
   "execution_count": null,
   "metadata": {
    "collapsed": true
   },
   "outputs": [],
   "source": []
  }
 ],
 "metadata": {
  "anaconda-cloud": {},
  "kernelspec": {
   "display_name": "Python [default]",
   "language": "python",
   "name": "python2"
  },
  "language_info": {
   "codemirror_mode": {
    "name": "ipython",
    "version": 2
   },
   "file_extension": ".py",
   "mimetype": "text/x-python",
   "name": "python",
   "nbconvert_exporter": "python",
   "pygments_lexer": "ipython2",
   "version": "2.7.12"
  }
 },
 "nbformat": 4,
 "nbformat_minor": 0
}
